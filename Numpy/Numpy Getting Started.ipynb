{
 "cells": [
  {
   "cell_type": "markdown",
   "id": "a283928f",
   "metadata": {},
   "source": [
    "## Get Started With Numpy"
   ]
  },
  {
   "cell_type": "markdown",
   "id": "0414f192",
   "metadata": {},
   "source": [
    "#### Installing numpy"
   ]
  },
  {
   "cell_type": "code",
   "execution_count": 1,
   "id": "d2a9ce20",
   "metadata": {},
   "outputs": [
    {
     "name": "stdout",
     "output_type": "stream",
     "text": [
      "Requirement already satisfied: numpy in c:\\users\\achie\\anaconda3\\lib\\site-packages (1.21.5)\n",
      "Note: you may need to restart the kernel to use updated packages.\n"
     ]
    },
    {
     "name": "stderr",
     "output_type": "stream",
     "text": [
      "WARNING: There was an error checking the latest version of pip.\n"
     ]
    }
   ],
   "source": [
    "pip install numpy"
   ]
  },
  {
   "cell_type": "markdown",
   "id": "bf838227",
   "metadata": {},
   "source": [
    "#### Importing Numpy"
   ]
  },
  {
   "cell_type": "code",
   "execution_count": 2,
   "id": "74cb6da6",
   "metadata": {},
   "outputs": [],
   "source": [
    "import numpy as np"
   ]
  },
  {
   "cell_type": "markdown",
   "id": "ce7b2acd",
   "metadata": {},
   "source": [
    "#### Checking the version"
   ]
  },
  {
   "cell_type": "code",
   "execution_count": 3,
   "id": "ac08d83b",
   "metadata": {},
   "outputs": [
    {
     "name": "stdout",
     "output_type": "stream",
     "text": [
      "1.21.5\n"
     ]
    }
   ],
   "source": [
    "print(np.__version__)"
   ]
  },
  {
   "cell_type": "markdown",
   "id": "b0c50931",
   "metadata": {},
   "source": [
    "## Creating Numpy array"
   ]
  },
  {
   "cell_type": "code",
   "execution_count": 4,
   "id": "94bc6cf2",
   "metadata": {},
   "outputs": [
    {
     "name": "stdout",
     "output_type": "stream",
     "text": [
      "[1, 2, 3, 4, 5, 6, 7]\n",
      "[1 2 3 4 5 6 7]\n"
     ]
    }
   ],
   "source": [
    "list = [1, 2, 3,  4, 5, 6, 7] # created list.\n",
    "print(list)\n",
    "array = np.array(list) #converting list to array.\n",
    "print(array)"
   ]
  },
  {
   "cell_type": "markdown",
   "id": "1d3c0b8f",
   "metadata": {},
   "source": [
    "-> Numpy is said to be faster than list because:\n",
    "\n",
    "-> Numpy array are stored in one continuous place in memory unlike list so processes can access and manipulate them very efficiently "
   ]
  },
  {
   "cell_type": "markdown",
   "id": "3498089a",
   "metadata": {},
   "source": [
    "#### Checking the type "
   ]
  },
  {
   "cell_type": "code",
   "execution_count": 5,
   "id": "b5821af0",
   "metadata": {},
   "outputs": [
    {
     "name": "stdout",
     "output_type": "stream",
     "text": [
      "<class 'list'>\n",
      "<class 'numpy.ndarray'>\n"
     ]
    }
   ],
   "source": [
    "print(type(list))\n",
    "print(type(array))"
   ]
  },
  {
   "cell_type": "markdown",
   "id": "ca84bdec",
   "metadata": {},
   "source": [
    "## Dimensions in Array"
   ]
  },
  {
   "cell_type": "code",
   "execution_count": 6,
   "id": "f7416d48",
   "metadata": {},
   "outputs": [
    {
     "name": "stdout",
     "output_type": "stream",
     "text": [
      "1\n",
      "\n",
      "[1 2 3 4]\n",
      "\n",
      "[[1 2 3]\n",
      " [4 5 6]]\n",
      "\n",
      "[[[ 1  2  3]\n",
      "  [ 4  5  6]]\n",
      "\n",
      " [[ 7  8  9]\n",
      "  [10 11 12]]]\n"
     ]
    }
   ],
   "source": [
    "dim0 = np.array(1)# 0-dimensional array\n",
    "print(dim0)\n",
    "\n",
    "print()\n",
    "\n",
    "dim1 = np.array([1, 2, 3, 4])# 1-dimensional array\n",
    "print(dim1)\n",
    "print()\n",
    "\n",
    "\n",
    "dim2 = np.array([[1, 2, 3], [4, 5, 6]]) # 2-dimension array.\n",
    "print(dim2)\n",
    "\n",
    "print()\n",
    "\n",
    "dim3 = np.array([[[1, 2, 3,], [4, 5, 6]], [[7, 8, 9], [10, 11, 12]]])\n",
    "print(dim3)\n",
    "\n"
   ]
  },
  {
   "cell_type": "markdown",
   "id": "f7e2b79e",
   "metadata": {},
   "source": [
    "#### Checking the dimension"
   ]
  },
  {
   "cell_type": "code",
   "execution_count": 7,
   "id": "99435cdc",
   "metadata": {},
   "outputs": [
    {
     "name": "stdout",
     "output_type": "stream",
     "text": [
      "0\n",
      "1\n",
      "2\n",
      "3\n"
     ]
    }
   ],
   "source": [
    "print(dim0.ndim) # 0-dimension array\n",
    "print(dim1.ndim) # 1-dimensional array\n",
    "print(dim2.ndim) # 2-dimensional array\n",
    "print(dim3.ndim) # 3-dimensional array"
   ]
  },
  {
   "cell_type": "markdown",
   "id": "19fb5ffa",
   "metadata": {},
   "source": [
    "### Higher Dimensiol Arrays"
   ]
  },
  {
   "cell_type": "markdown",
   "id": "9f114685",
   "metadata": {},
   "source": [
    "An array can have any number of dimensional "
   ]
  },
  {
   "cell_type": "code",
   "execution_count": 8,
   "id": "cfe02f21",
   "metadata": {},
   "outputs": [
    {
     "name": "stdout",
     "output_type": "stream",
     "text": [
      "[[[[[[[1 2 3 4 5 6 7 8 9 0]]]]]]]\n"
     ]
    }
   ],
   "source": [
    "arr = np.array([1, 2, 3, 4, 5, 6, 7, 8, 9, 0], ndmin = 7)\n",
    "print(arr) # prints 7-dimensional array."
   ]
  },
  {
   "cell_type": "markdown",
   "id": "8c7f3ae4",
   "metadata": {},
   "source": [
    "## Accessing Array"
   ]
  },
  {
   "cell_type": "raw",
   "id": "14b2a281",
   "metadata": {},
   "source": [
    " To access array element we use array indexing"
   ]
  },
  {
   "cell_type": "markdown",
   "id": "7bde9ef6",
   "metadata": {},
   "source": [
    "#### Indexing in 1-dimensional array"
   ]
  },
  {
   "cell_type": "code",
   "execution_count": 9,
   "id": "97705d42",
   "metadata": {},
   "outputs": [
    {
     "name": "stdout",
     "output_type": "stream",
     "text": [
      "2\n"
     ]
    }
   ],
   "source": [
    "print(dim1[1]) # prints the second element in 1-dim array.\n"
   ]
  },
  {
   "cell_type": "markdown",
   "id": "3cdf79d1",
   "metadata": {},
   "source": [
    "#### Indexing in 2-dimensional array"
   ]
  },
  {
   "cell_type": "code",
   "execution_count": 10,
   "id": "952be9ff",
   "metadata": {},
   "outputs": [
    {
     "name": "stdout",
     "output_type": "stream",
     "text": [
      "2\n"
     ]
    }
   ],
   "source": [
    "print(dim2[0, 1])"
   ]
  },
  {
   "cell_type": "markdown",
   "id": "bb5e2095",
   "metadata": {},
   "source": [
    "#### Indexing in 3-dimensional array"
   ]
  },
  {
   "cell_type": "code",
   "execution_count": 11,
   "id": "af4217ab",
   "metadata": {},
   "outputs": [
    {
     "name": "stdout",
     "output_type": "stream",
     "text": [
      "4\n"
     ]
    }
   ],
   "source": [
    "print(dim3[0, 1, 0])"
   ]
  },
  {
   "cell_type": "markdown",
   "id": "dc2cf930",
   "metadata": {},
   "source": [
    "# Slicing Numpy Array"
   ]
  },
  {
   "cell_type": "code",
   "execution_count": 12,
   "id": "7948d5f9",
   "metadata": {},
   "outputs": [
    {
     "name": "stdout",
     "output_type": "stream",
     "text": [
      "[array([2, 3, 4])]\n",
      "[5 6]\n"
     ]
    }
   ],
   "source": [
    "print([dim1[1:5]]) # slicing 1-dimensional array\n",
    "print(dim2[1, 1:]) # slicing 2-dimensional array"
   ]
  },
  {
   "cell_type": "markdown",
   "id": "c0af2ef5",
   "metadata": {},
   "source": [
    "##  Numpy Data Types"
   ]
  },
  {
   "cell_type": "raw",
   "id": "b237121a",
   "metadata": {},
   "source": [
    "Numpy has some extra data types, and refer to data with one character, like 'i' for intergers 'u' for unsigned interger etc.\n",
    "i - interger\n",
    "b - boolean\n",
    "u - unsigned interger\n",
    "f - float\n",
    "c - complex float\n",
    "m - timedelta\n",
    "M - datetime\n",
    "O - object\n",
    "S - String\n",
    "U - unicode string\n",
    "V - fixed chunk of memory for other type(void)"
   ]
  },
  {
   "cell_type": "markdown",
   "id": "5943ffa8",
   "metadata": {},
   "source": [
    "###  Checking Data Type of an Array"
   ]
  },
  {
   "cell_type": "code",
   "execution_count": 13,
   "id": "80ff3f9a",
   "metadata": {},
   "outputs": [
    {
     "name": "stdout",
     "output_type": "stream",
     "text": [
      "int32\n"
     ]
    }
   ],
   "source": [
    "print(dim1.dtype)"
   ]
  },
  {
   "cell_type": "code",
   "execution_count": 14,
   "id": "5e8d95ae",
   "metadata": {},
   "outputs": [
    {
     "name": "stdout",
     "output_type": "stream",
     "text": [
      "<U6\n"
     ]
    }
   ],
   "source": [
    "fruits = np.array(['apple', 'banana', 'cherry'])\n",
    "print(fruits.dtype)"
   ]
  },
  {
   "cell_type": "code",
   "execution_count": 15,
   "id": "be649ec8",
   "metadata": {},
   "outputs": [
    {
     "name": "stdout",
     "output_type": "stream",
     "text": [
      "[b'1' b'2' b'3' b'4' b'5']\n",
      "|S1\n"
     ]
    }
   ],
   "source": [
    "arr1 = np.array([1, 2, 3, 4, 5], dtype ='S')\n",
    "print(arr1)\n",
    "print(arr1.dtype)"
   ]
  },
  {
   "cell_type": "code",
   "execution_count": 16,
   "id": "c172f79d",
   "metadata": {},
   "outputs": [
    {
     "name": "stdout",
     "output_type": "stream",
     "text": [
      "[1 2 3 4 5]\n",
      "int32\n"
     ]
    }
   ],
   "source": [
    "arr2 = np.array([1, 2, 3, 4, 5], dtype = 'i4')\n",
    "print(arr2)\n",
    "print(arr2.dtype)"
   ]
  },
  {
   "cell_type": "raw",
   "id": "6a572067",
   "metadata": {},
   "source": [
    "Some time converting data type in an array can be difficult. In such a case 'astype()' function is used"
   ]
  },
  {
   "cell_type": "code",
   "execution_count": 17,
   "id": "8d199f0f",
   "metadata": {},
   "outputs": [
    {
     "name": "stdout",
     "output_type": "stream",
     "text": [
      "[1 2 3]\n",
      "int32\n"
     ]
    }
   ],
   "source": [
    "arr3 = np.array([1.1, 2.1, 3.1])\n",
    "newarr3 = arr3.astype('i') # converting float to intergeer.\n",
    "print(newarr3)\n",
    "print(newarr3.dtype)"
   ]
  },
  {
   "cell_type": "code",
   "execution_count": 18,
   "id": "73b0f7f4",
   "metadata": {},
   "outputs": [
    {
     "name": "stdout",
     "output_type": "stream",
     "text": [
      "[ True  True  True]\n",
      "bool\n"
     ]
    }
   ],
   "source": [
    "arr4 = newarr3.astype(bool) # converting interger to boolean\n",
    "print(arr4)\n",
    "print(arr4.dtype)"
   ]
  },
  {
   "cell_type": "markdown",
   "id": "c30b76cd",
   "metadata": {},
   "source": [
    "## Copy and View"
   ]
  },
  {
   "cell_type": "markdown",
   "id": "ee760eaf",
   "metadata": {},
   "source": [
    "The main difference between a copy and a view of an array is that the copy is a new array and the view is just an original array\n",
    "\n",
    "\n",
    "->The copy the data and any changes made to the copy will not affect the original array and will not be affected by changes made to the original array.\n",
    "\n",
    "\n",
    "->The view does not own the data and any changes made to it will affect the original array and the changes made to the original will affect the view\n"
   ]
  },
  {
   "cell_type": "markdown",
   "id": "f0650caa",
   "metadata": {},
   "source": [
    "####  Copy"
   ]
  },
  {
   "cell_type": "code",
   "execution_count": 19,
   "id": "9467fdc2",
   "metadata": {},
   "outputs": [
    {
     "name": "stdout",
     "output_type": "stream",
     "text": [
      "[40  2  3  4  5]\n",
      "[1 2 3 4 5]\n"
     ]
    }
   ],
   "source": [
    "original = np.array([1, 2, 3, 4, 5])\n",
    "copied_original = original.copy()\n",
    "\n",
    "original[0] = 40 # change made to original does not affect the copy\n",
    "\n",
    "\n",
    "print(original)\n",
    "print(copied_original)"
   ]
  },
  {
   "cell_type": "markdown",
   "id": "99ff21c1",
   "metadata": {},
   "source": [
    "#### View"
   ]
  },
  {
   "cell_type": "code",
   "execution_count": 20,
   "id": "aea87edc",
   "metadata": {},
   "outputs": [
    {
     "name": "stdout",
     "output_type": "stream",
     "text": [
      "[51  2  3  4  5]\n",
      "[51  2  3  4  5]\n",
      "[51 52  3  4  5]\n"
     ]
    }
   ],
   "source": [
    "original1 = copied_original\n",
    "original_view = original1.view()\n",
    "original1[0] = 51 # change made to the original data affect the view\n",
    "\n",
    "print(original1)\n",
    "print(original_view)\n",
    "\n",
    "original_view[1] = 52 # change made to the view affect the original.\n",
    "print(original_view)"
   ]
  },
  {
   "cell_type": "markdown",
   "id": "35391063",
   "metadata": {},
   "source": [
    "###  Checking if array own its data"
   ]
  },
  {
   "cell_type": "markdown",
   "id": "90720664",
   "metadata": {},
   "source": [
    "'base' fuction is used to check if an array own its data and return 'None' if true."
   ]
  },
  {
   "cell_type": "code",
   "execution_count": 21,
   "id": "f54d89b9",
   "metadata": {},
   "outputs": [
    {
     "name": "stdout",
     "output_type": "stream",
     "text": [
      "None\n",
      "[51 52  3  4  5]\n"
     ]
    }
   ],
   "source": [
    "print(original.base) # owns the data\n",
    "print(original_view.base) # doesn't own the data"
   ]
  },
  {
   "cell_type": "markdown",
   "id": "75a12f31",
   "metadata": {},
   "source": [
    "##  Numpy shape"
   ]
  },
  {
   "cell_type": "markdown",
   "id": "96d27540",
   "metadata": {},
   "source": [
    "Shape is the number of element is a given array dimesional"
   ]
  },
  {
   "cell_type": "raw",
   "id": "fed19ef5",
   "metadata": {},
   "source": [
    "'shape' function is used to get the shape of an array"
   ]
  },
  {
   "cell_type": "code",
   "execution_count": 22,
   "id": "a57818a2",
   "metadata": {},
   "outputs": [
    {
     "name": "stdout",
     "output_type": "stream",
     "text": [
      "(2, 5)\n"
     ]
    }
   ],
   "source": [
    "arr4 = np.array([[1, 2, 3, 4, 5], [6, 7, 8, 9, 0]])\n",
    "print(arr4.shape) # returns the tuple. \n",
    "\n",
    "# This means that the array has 2 dimensions, where each dimension has 5 elements."
   ]
  },
  {
   "cell_type": "markdown",
   "id": "a4791f5a",
   "metadata": {},
   "source": [
    "## Numpy reshape"
   ]
  },
  {
   "cell_type": "markdown",
   "id": "c984ee5a",
   "metadata": {},
   "source": [
    "reshape means changing the shape of and array i.e it's dimensions and elements in each dimension"
   ]
  },
  {
   "cell_type": "code",
   "execution_count": 23,
   "id": "f791201f",
   "metadata": {},
   "outputs": [
    {
     "name": "stdout",
     "output_type": "stream",
     "text": [
      "[ 0  1  2  3  4  5  6  7  8  9 10 11 12 13]\n",
      "1\n",
      "[[ 0  1  2  3  4  5  6]\n",
      " [ 7  8  9 10 11 12 13]]\n"
     ]
    }
   ],
   "source": [
    "arr5 = np.arange(14) # returns a range of numbers from 0 to 14 and does not include 14.\n",
    "\n",
    "print(arr5) # a 1-dimensional array\n",
    "\n",
    "print(arr5.ndim) # check the number of dimension. print 1 to indicate that the array is 1-dimensional\n",
    "\n",
    "reshape_arr5 = arr5.reshape(2, 7) # reshape 1-dim  with 14 element to 2-dim with 7 elements each\n",
    "print(reshape_arr5)"
   ]
  },
  {
   "cell_type": "code",
   "execution_count": 24,
   "id": "e74ec38d",
   "metadata": {},
   "outputs": [
    {
     "name": "stdout",
     "output_type": "stream",
     "text": [
      "[ 1  2  3  4  5  6  7  8  9 10 11 12]\n",
      "[[[ 1  2]\n",
      "  [ 3  4]\n",
      "  [ 5  6]]\n",
      "\n",
      " [[ 7  8]\n",
      "  [ 9 10]\n",
      "  [11 12]]]\n"
     ]
    }
   ],
   "source": [
    "arr6 = np.arange(1, 13)\n",
    "\n",
    "print(arr6)\n",
    "new_arr6 = arr6.reshape(2, 3, 2) #1-dim to 3-dim\n",
    "print(new_arr6)"
   ]
  },
  {
   "cell_type": "markdown",
   "id": "7c689d2b",
   "metadata": {},
   "source": [
    "####  Flattening The Array"
   ]
  },
  {
   "cell_type": "markdown",
   "id": "9e594e8c",
   "metadata": {},
   "source": [
    "Flattening means converting a multidimensional array into a 1D array.\n"
   ]
  },
  {
   "cell_type": "code",
   "execution_count": 25,
   "id": "ee6763fc",
   "metadata": {},
   "outputs": [
    {
     "name": "stdout",
     "output_type": "stream",
     "text": [
      "[ 1  2  3  4  5  6  7  8  9 10 11 12]\n"
     ]
    }
   ],
   "source": [
    "flatten_new_arr6 = new_arr6.reshape(-1)\n",
    "print(flatten_new_arr6)"
   ]
  },
  {
   "cell_type": "markdown",
   "id": "6630b710",
   "metadata": {},
   "source": [
    "## Numpy Array Iterating\n"
   ]
  },
  {
   "cell_type": "markdown",
   "id": "0f5bb2d9",
   "metadata": {},
   "source": [
    "Iterating means going through the array elements one by one"
   ]
  },
  {
   "cell_type": "markdown",
   "id": "067b457b",
   "metadata": {},
   "source": [
    "####  iterating 1-D"
   ]
  },
  {
   "cell_type": "code",
   "execution_count": 26,
   "id": "1ff79cfc",
   "metadata": {},
   "outputs": [
    {
     "name": "stdout",
     "output_type": "stream",
     "text": [
      "1\n",
      "2\n",
      "3\n"
     ]
    }
   ],
   "source": [
    "one_dim = np.array([1, 2, 3])\n",
    "for one in one_dim:\n",
    "    print(one) "
   ]
  },
  {
   "cell_type": "markdown",
   "id": "ca4df308",
   "metadata": {},
   "source": [
    "#### Iterating 2-D"
   ]
  },
  {
   "cell_type": "code",
   "execution_count": 53,
   "id": "3eb38284",
   "metadata": {},
   "outputs": [
    {
     "name": "stdout",
     "output_type": "stream",
     "text": [
      "1\n",
      "2\n",
      "3\n",
      "4\n",
      "5\n",
      "6\n"
     ]
    }
   ],
   "source": [
    "two_dim = np.array([[1, 2, 3], [4, 5, 6]])\n",
    "for tw in two_dim:\n",
    "    for two in tw:\n",
    "        print(two)"
   ]
  },
  {
   "cell_type": "markdown",
   "id": "ca28cb0e",
   "metadata": {},
   "source": [
    "####  3-D iteration"
   ]
  },
  {
   "cell_type": "code",
   "execution_count": 54,
   "id": "64a2a61c",
   "metadata": {},
   "outputs": [
    {
     "name": "stdout",
     "output_type": "stream",
     "text": [
      "1\n",
      "2\n",
      "3\n",
      "4\n",
      "5\n",
      "6\n",
      "7\n",
      "8\n",
      "9\n",
      "10\n",
      "11\n",
      "12\n"
     ]
    }
   ],
   "source": [
    "arr7 = np.arange(1, 13).reshape(2, 3 , 2)\n",
    "\n",
    "\n",
    "for x in arr7:\n",
    "    for y in x:\n",
    "        for z in y:\n",
    "            print(z) # iterating 3-D elements\n",
    "    "
   ]
  },
  {
   "cell_type": "markdown",
   "id": "4a6417a9",
   "metadata": {},
   "source": [
    "#### Iterating using nditer"
   ]
  },
  {
   "cell_type": "code",
   "execution_count": 55,
   "id": "ccf62561",
   "metadata": {},
   "outputs": [
    {
     "name": "stdout",
     "output_type": "stream",
     "text": [
      "1\n",
      "2\n",
      "3\n",
      "4\n",
      "5\n",
      "6\n",
      "7\n",
      "8\n",
      "9\n",
      "10\n",
      "11\n",
      "12\n"
     ]
    }
   ],
   "source": [
    "x_array = arr7\n",
    "for arr in np.nditer(x_array):\n",
    "    print(arr)"
   ]
  },
  {
   "cell_type": "markdown",
   "id": "29d43dd4",
   "metadata": {},
   "source": [
    "##  Array concatenation"
   ]
  },
  {
   "cell_type": "markdown",
   "id": "d717687c",
   "metadata": {},
   "source": [
    "-> Means joining two or more array in a single array."
   ]
  },
  {
   "cell_type": "code",
   "execution_count": 56,
   "id": "97ada052",
   "metadata": {},
   "outputs": [
    {
     "name": "stdout",
     "output_type": "stream",
     "text": [
      "[56 73 56 34 33 70]\n"
     ]
    }
   ],
   "source": [
    "old_array = np.array([56, 73, 56])\n",
    "old_array1 = np.array([34, 33, 70])\n",
    "concate = np.concatenate((old_array,  old_array1))\n",
    "print(concate)\n"
   ]
  },
  {
   "cell_type": "markdown",
   "id": "c7928fb9",
   "metadata": {},
   "source": [
    "#### Join two 2-D arrays along rows (axis=1):"
   ]
  },
  {
   "cell_type": "code",
   "execution_count": 57,
   "id": "6391feba",
   "metadata": {},
   "outputs": [
    {
     "name": "stdout",
     "output_type": "stream",
     "text": [
      "[[14  2  5 60]\n",
      " [13 42 71  8]]\n"
     ]
    }
   ],
   "source": [
    "\n",
    "arrx = np.array([[14, 2], [13, 42]])\n",
    "\n",
    "arry = np.array([[5, 60], [71, 8]])\n",
    "\n",
    "arrz = np.concatenate((arrx, arry), axis=1)\n",
    "\n",
    "print(arrz)"
   ]
  },
  {
   "cell_type": "markdown",
   "id": "f185f664",
   "metadata": {},
   "source": [
    "###  Joining Arrays Using Stack Functions"
   ]
  },
  {
   "cell_type": "markdown",
   "id": "ae84f5c5",
   "metadata": {},
   "source": [
    " ->Stacking is same as concatenation, the only difference is that stacking is done along a new axis.\n",
    "\n",
    "\n",
    "->We can concatenate two 1-D arrays along the second axis which would result in putting them one over the other, ie. stacking.\n",
    "\n",
    "\n",
    "->We pass a sequence of arrays that we want to join to the stack() method along with the axis."
   ]
  },
  {
   "cell_type": "code",
   "execution_count": 58,
   "id": "89bc9252",
   "metadata": {},
   "outputs": [
    {
     "name": "stdout",
     "output_type": "stream",
     "text": [
      "[[14  7]\n",
      " [21 25]\n",
      " [39  4]]\n"
     ]
    }
   ],
   "source": [
    "arrx1 = np.array([14, 21, 39])\n",
    "\n",
    "arry1 = np.array([7, 25, 4])\n",
    "\n",
    "arrz1 = np.stack((arrx1, arry1), axis=1)\n",
    "\n",
    "print(arrz1)"
   ]
  },
  {
   "cell_type": "markdown",
   "id": "689cb6ae",
   "metadata": {},
   "source": [
    "### Stacking Along Rows"
   ]
  },
  {
   "cell_type": "markdown",
   "id": "606ece3c",
   "metadata": {},
   "source": [
    "-> hstack() to stack along rows."
   ]
  },
  {
   "cell_type": "code",
   "execution_count": 59,
   "id": "4b3dd9bc",
   "metadata": {},
   "outputs": [
    {
     "name": "stdout",
     "output_type": "stream",
     "text": [
      "[14 21 39  7 25  4]\n"
     ]
    }
   ],
   "source": [
    "arrz2 = np.hstack((arrx1, arry1))\n",
    "print(arrz2)"
   ]
  },
  {
   "cell_type": "markdown",
   "id": "4be23724",
   "metadata": {},
   "source": [
    "### Stacking Along Columns"
   ]
  },
  {
   "cell_type": "markdown",
   "id": "e3576391",
   "metadata": {},
   "source": [
    "-> vstack()  to stack along columns."
   ]
  },
  {
   "cell_type": "code",
   "execution_count": 62,
   "id": "a9826b5f",
   "metadata": {},
   "outputs": [
    {
     "name": "stdout",
     "output_type": "stream",
     "text": [
      "[[14 21 39]\n",
      " [ 7 25  4]]\n"
     ]
    }
   ],
   "source": [
    "arrz3 = np.vstack((arrx1, arry1))\n",
    "print(arrz3)"
   ]
  },
  {
   "cell_type": "markdown",
   "id": "1ecbbef3",
   "metadata": {},
   "source": [
    "### Stacking Along Height (depth)"
   ]
  },
  {
   "cell_type": "markdown",
   "id": "f870d986",
   "metadata": {},
   "source": [
    "-> dstack() to stack along height, which is the same as depth."
   ]
  },
  {
   "cell_type": "code",
   "execution_count": 63,
   "id": "15d630af",
   "metadata": {},
   "outputs": [
    {
     "name": "stdout",
     "output_type": "stream",
     "text": [
      "[[[14  7]\n",
      "  [21 25]\n",
      "  [39  4]]]\n"
     ]
    }
   ],
   "source": [
    "arrz4 = np.dstack((arrx1, arry1))\n",
    "print(arrz4)"
   ]
  },
  {
   "cell_type": "markdown",
   "id": "970d3252",
   "metadata": {},
   "source": [
    "### Splitting NumPy Arrays"
   ]
  },
  {
   "cell_type": "markdown",
   "id": "d1956d80",
   "metadata": {},
   "source": [
    "->Splitting is reverse operation of Joining.\n",
    "\n",
    "\n",
    "->Joining merges multiple arrays into one and Splitting breaks one array into multiple.\n",
    "\n",
    "\n",
    "->We use array_split() for splitting arrays, we pass it the array we want to split and the number of splits."
   ]
  },
  {
   "cell_type": "code",
   "execution_count": 65,
   "id": "86c92d18",
   "metadata": {},
   "outputs": [
    {
     "name": "stdout",
     "output_type": "stream",
     "text": [
      "[array([23, 12]), array([55,  9]), array([51, 30])]\n"
     ]
    }
   ],
   "source": [
    "arrx2 = np.array([23, 12, 55, 9, 51, 30])\n",
    "\n",
    "arry2 = np.array_split(arrx2, 3)\n",
    "\n",
    "print(arry2)"
   ]
  },
  {
   "cell_type": "code",
   "execution_count": null,
   "id": "db88dee6",
   "metadata": {},
   "outputs": [],
   "source": []
  },
  {
   "cell_type": "code",
   "execution_count": null,
   "id": "9f91d085",
   "metadata": {},
   "outputs": [],
   "source": []
  }
 ],
 "metadata": {
  "kernelspec": {
   "display_name": "Python 3 (ipykernel)",
   "language": "python",
   "name": "python3"
  },
  "language_info": {
   "codemirror_mode": {
    "name": "ipython",
    "version": 3
   },
   "file_extension": ".py",
   "mimetype": "text/x-python",
   "name": "python",
   "nbconvert_exporter": "python",
   "pygments_lexer": "ipython3",
   "version": "3.9.13"
  }
 },
 "nbformat": 4,
 "nbformat_minor": 5
}
